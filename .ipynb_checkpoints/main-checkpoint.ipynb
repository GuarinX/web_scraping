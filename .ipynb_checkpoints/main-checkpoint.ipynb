{
 "cells": [
  {
   "cell_type": "markdown",
   "id": "9a4a95af-394b-437f-a180-4e59392e19a1",
   "metadata": {},
   "source": [
    "# Web Scraping a tienda en linea "
   ]
  },
  {
   "cell_type": "markdown",
   "id": "ad056553-c5c4-4639-9b6c-5e236249f94b",
   "metadata": {},
   "source": [
    "vamos a realizar webScraping a tienda en linea llamada \"Alkosto\", con informacion publica"
   ]
  },
  {
   "cell_type": "markdown",
   "id": "0da5d6e7-883f-4684-883d-f3a137e87901",
   "metadata": {},
   "source": [
    "## Importaciones"
   ]
  },
  {
   "cell_type": "code",
   "execution_count": 1,
   "id": "9370ecbc-0695-4cba-a1f3-073005775236",
   "metadata": {},
   "outputs": [],
   "source": [
    "from selenium import webdriver\n",
    "from selenium.webdriver.common.by import By\n",
    "from selenium.common.exceptions import NoSuchElementException\n",
    "import pandas as pd"
   ]
  },
  {
   "cell_type": "code",
   "execution_count": 2,
   "id": "0020e930-0860-4c56-b5bd-eeb1d3ed100e",
   "metadata": {},
   "outputs": [],
   "source": [
    "driver = webdriver.Chrome()"
   ]
  },
  {
   "cell_type": "code",
   "execution_count": 3,
   "id": "a6a2f4fe-50e7-4ec2-911d-dacaa4751c4f",
   "metadata": {},
   "outputs": [],
   "source": [
    "# guardamos la url\n",
    "url = 'https://www.alkosto.com/search?text=portatiles'\n",
    "# le decimos al driver(explorador que acceda a la url)\n",
    "driver.get(url)"
   ]
  },
  {
   "cell_type": "markdown",
   "id": "df7cd2d1-936a-43b0-b83c-3070ed6a2930",
   "metadata": {},
   "source": [
    "## Extraccion"
   ]
  },
  {
   "cell_type": "code",
   "execution_count": 4,
   "id": "2da75ccd-a7ef-45d7-8841-afeee0aed2a2",
   "metadata": {},
   "outputs": [],
   "source": [
    "# extraemos los li por medio de css_selector\n",
    "li_elements = driver.find_elements(By.CSS_SELECTOR, '#js-hits li')\n",
    "# guardamos los datos en una lista vacia\n",
    "data = []"
   ]
  },
  {
   "cell_type": "code",
   "execution_count": 5,
   "id": "7dcc088a-6455-4237-9d5c-17bca3c048eb",
   "metadata": {},
   "outputs": [],
   "source": [
    "for element in li_elements:\n",
    "    try:\n",
    "        titulo_element = element.find_element(By.TAG_NAME, 'h3')\n",
    "        precio_element = element.find_element(By.CLASS_NAME, 'price')\n",
    "        image_element = element.find_element(By.TAG_NAME, 'img').get_attribute('src')\n",
    "        data.append({\n",
    "            'Titulo': titulo_element.text,\n",
    "            'Precio': precio_element.text,\n",
    "            'Imagen': image_element\n",
    "        })\n",
    "    except NoSuchElementException:\n",
    "        pass"
   ]
  },
  {
   "cell_type": "markdown",
   "id": "2d00a337-115b-4a87-a875-a804120cfc87",
   "metadata": {},
   "source": [
    "## Guardado de datos"
   ]
  },
  {
   "cell_type": "code",
   "execution_count": 6,
   "id": "6f2013f3-f7b2-40f5-b00d-ad40414dd946",
   "metadata": {},
   "outputs": [],
   "source": [
    "df = pd.DataFrame(data)\n",
    "df.to_csv('portatiles_new.csv', index=False, sep=';')  # Asegúrate de que el separador sea una coma\n",
    "# df.to_csv('portatiles_new.csv')"
   ]
  },
  {
   "cell_type": "code",
   "execution_count": 35,
   "id": "0bf0cdc5-23c4-4f06-8fda-d918a22ba7dc",
   "metadata": {},
   "outputs": [
    {
     "data": {
      "text/plain": [
       "<bound method ChromiumDriver.quit of <selenium.webdriver.chrome.webdriver.WebDriver (session=\"ad6c77e35be55283016d328d1af598db\")>>"
      ]
     },
     "execution_count": 35,
     "metadata": {},
     "output_type": "execute_result"
    }
   ],
   "source": [
    "driver.quit"
   ]
  }
 ],
 "metadata": {
  "kernelspec": {
   "display_name": "Python 3 (ipykernel)",
   "language": "python",
   "name": "python3"
  },
  "language_info": {
   "codemirror_mode": {
    "name": "ipython",
    "version": 3
   },
   "file_extension": ".py",
   "mimetype": "text/x-python",
   "name": "python",
   "nbconvert_exporter": "python",
   "pygments_lexer": "ipython3",
   "version": "3.12.6"
  }
 },
 "nbformat": 4,
 "nbformat_minor": 5
}
